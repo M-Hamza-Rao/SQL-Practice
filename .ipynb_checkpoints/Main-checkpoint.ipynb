{
 "cells": [
  {
   "cell_type": "code",
   "execution_count": 50,
   "id": "c22a2511",
   "metadata": {},
   "outputs": [],
   "source": [
    "import mysql.connector\n",
    "\n",
    "mydb = mysql_connection = mysql.connector.connect(\n",
    "    host=\"localhost\",\n",
    "    user=\"root\",\n",
    "    passwd=\"1234\",\n",
    "    database=\"testdb\"\n",
    ")\n"
   ]
  },
  {
   "cell_type": "code",
   "execution_count": 51,
   "id": "059b2819",
   "metadata": {},
   "outputs": [
    {
     "name": "stdout",
     "output_type": "stream",
     "text": [
      "<mysql.connector.connection.MySQLConnection object at 0x000001E2F903C160>\n"
     ]
    }
   ],
   "source": [
    "print(mydb)"
   ]
  },
  {
   "cell_type": "code",
   "execution_count": 52,
   "id": "e340b827",
   "metadata": {},
   "outputs": [],
   "source": [
    "mycursor = mydb.cursor()"
   ]
  },
  {
   "cell_type": "code",
   "execution_count": 53,
   "id": "f06640a4",
   "metadata": {},
   "outputs": [],
   "source": [
    "#mycursor.execute(\"CREATE DATABASE testdb\")"
   ]
  },
  {
   "cell_type": "code",
   "execution_count": 54,
   "id": "1c08afd9",
   "metadata": {},
   "outputs": [
    {
     "data": {
      "text/plain": [
       "'mycursor.execute(\"SHOW DATABASES\")\\nfor db in mycursor:\\n    print(db)'"
      ]
     },
     "execution_count": 54,
     "metadata": {},
     "output_type": "execute_result"
    }
   ],
   "source": [
    "\"\"\"mycursor.execute(\"SHOW DATABASES\")\n",
    "for db in mycursor:\n",
    "    print(db)\"\"\""
   ]
  },
  {
   "cell_type": "code",
   "execution_count": 55,
   "id": "3183e092",
   "metadata": {},
   "outputs": [],
   "source": [
    "#mycursor.execute(\"CREATE TABLE students(name VARCHAR(255), age INTEGER(10))\")"
   ]
  },
  {
   "cell_type": "code",
   "execution_count": 56,
   "id": "3ccb9d41",
   "metadata": {},
   "outputs": [
    {
     "name": "stdout",
     "output_type": "stream",
     "text": [
      "('students',)\n"
     ]
    }
   ],
   "source": [
    "mycursor.execute(\"SHOW TABLES\")\n",
    "for tb in mycursor:\n",
    "    print(tb)"
   ]
  },
  {
   "cell_type": "code",
   "execution_count": 57,
   "id": "c8c283cf",
   "metadata": {},
   "outputs": [],
   "source": [
    "#sqlformula = \"INSERT INTO students (name, age) VALUES(%s,%s)\"\n",
    "#student1= (\"Rachel\",22)"
   ]
  },
  {
   "cell_type": "code",
   "execution_count": 58,
   "id": "666d8a52",
   "metadata": {},
   "outputs": [],
   "source": [
    "#mycursor.execute(sqlformula, student1)"
   ]
  },
  {
   "cell_type": "code",
   "execution_count": 59,
   "id": "1a60e12f",
   "metadata": {},
   "outputs": [],
   "source": [
    "#mydb.commit()"
   ]
  },
  {
   "cell_type": "code",
   "execution_count": 60,
   "id": "e1db8d48",
   "metadata": {},
   "outputs": [],
   "source": [
    "sqlformula = \"INSERT INTO students (name, age) VALUES(%s,%s)\""
   ]
  },
  {
   "cell_type": "code",
   "execution_count": 61,
   "id": "ad308002",
   "metadata": {},
   "outputs": [
    {
     "data": {
      "text/plain": [
       "'students= [(\"Ilsa\",23),\\n          (\"Hamza Rao\",23),\\n          (\"Abid\",22),\\n          (\"Irfan\",21),\\n          (\"Maryam\",20),\\n          (\"Wisha\",22),\\n          (\"Mahnoor\",21),]'"
      ]
     },
     "execution_count": 61,
     "metadata": {},
     "output_type": "execute_result"
    }
   ],
   "source": [
    "\"\"\"students= [(\"Ilsa\",23),\n",
    "          (\"Hamza Rao\",23),\n",
    "          (\"Abid\",22),\n",
    "          (\"Irfan\",21),\n",
    "          (\"Maryam\",20),\n",
    "          (\"Wisha\",22),\n",
    "          (\"Mahnoor\",21),]\"\"\""
   ]
  },
  {
   "cell_type": "code",
   "execution_count": 62,
   "id": "631df51e",
   "metadata": {},
   "outputs": [],
   "source": [
    "mycursor.executemany(sqlformula, students)"
   ]
  },
  {
   "cell_type": "code",
   "execution_count": 49,
   "id": "017f2412",
   "metadata": {},
   "outputs": [],
   "source": [
    "mydb.commit()"
   ]
  },
  {
   "cell_type": "code",
   "execution_count": 63,
   "id": "055c4645",
   "metadata": {},
   "outputs": [],
   "source": [
    "mycursor.execute(\"SELECT * FROM students\")"
   ]
  },
  {
   "cell_type": "code",
   "execution_count": 64,
   "id": "9919a374",
   "metadata": {},
   "outputs": [],
   "source": [
    "result = mycursor.fetchall()"
   ]
  },
  {
   "cell_type": "code",
   "execution_count": 65,
   "id": "34185615",
   "metadata": {},
   "outputs": [
    {
     "name": "stdout",
     "output_type": "stream",
     "text": [
      "('Rachel', 22)\n",
      "('Ilsa', 23)\n",
      "('Hamza Rao', 23)\n",
      "('Abid', 22)\n",
      "('Irfan', 21)\n",
      "('Maryam', 20)\n",
      "('Wisha', 22)\n",
      "('Mahnoor', 21)\n",
      "('Ilsa', 23)\n",
      "('Hamza Rao', 23)\n",
      "('Abid', 22)\n",
      "('Irfan', 21)\n",
      "('Maryam', 20)\n",
      "('Wisha', 22)\n",
      "('Mahnoor', 21)\n"
     ]
    }
   ],
   "source": [
    "for r in result:\n",
    "    print(r)"
   ]
  },
  {
   "cell_type": "code",
   "execution_count": 66,
   "id": "38fdf3c6",
   "metadata": {},
   "outputs": [],
   "source": [
    "mycursor.execute(\"SELECT age FROM students\")"
   ]
  },
  {
   "cell_type": "code",
   "execution_count": 67,
   "id": "db3c62e6",
   "metadata": {},
   "outputs": [],
   "source": [
    "result = mycursor.fetchall()"
   ]
  },
  {
   "cell_type": "code",
   "execution_count": 68,
   "id": "943fd326",
   "metadata": {},
   "outputs": [
    {
     "name": "stdout",
     "output_type": "stream",
     "text": [
      "(22,)\n",
      "(23,)\n",
      "(23,)\n",
      "(22,)\n",
      "(21,)\n",
      "(20,)\n",
      "(22,)\n",
      "(21,)\n",
      "(23,)\n",
      "(23,)\n",
      "(22,)\n",
      "(21,)\n",
      "(20,)\n",
      "(22,)\n",
      "(21,)\n"
     ]
    }
   ],
   "source": [
    "for r in result:\n",
    "    print(r)"
   ]
  },
  {
   "cell_type": "code",
   "execution_count": 70,
   "id": "fc9d6d1b",
   "metadata": {},
   "outputs": [
    {
     "name": "stdout",
     "output_type": "stream",
     "text": [
      "22\n"
     ]
    }
   ],
   "source": [
    "mycursor.execute(\"SELECT age FROM students\")\n",
    "result = mycursor.fetchone()\n",
    "for r in result:\n",
    "    print(r)"
   ]
  },
  {
   "cell_type": "code",
   "execution_count": null,
   "id": "d3e1c69e",
   "metadata": {},
   "outputs": [],
   "source": []
  },
  {
   "cell_type": "code",
   "execution_count": null,
   "id": "7815c0c3",
   "metadata": {},
   "outputs": [],
   "source": []
  },
  {
   "cell_type": "code",
   "execution_count": null,
   "id": "6a0ed3d9",
   "metadata": {},
   "outputs": [],
   "source": []
  }
 ],
 "metadata": {
  "kernelspec": {
   "display_name": "Python 3 (ipykernel)",
   "language": "python",
   "name": "python3"
  },
  "language_info": {
   "codemirror_mode": {
    "name": "ipython",
    "version": 3
   },
   "file_extension": ".py",
   "mimetype": "text/x-python",
   "name": "python",
   "nbconvert_exporter": "python",
   "pygments_lexer": "ipython3",
   "version": "3.7.0"
  }
 },
 "nbformat": 4,
 "nbformat_minor": 5
}
