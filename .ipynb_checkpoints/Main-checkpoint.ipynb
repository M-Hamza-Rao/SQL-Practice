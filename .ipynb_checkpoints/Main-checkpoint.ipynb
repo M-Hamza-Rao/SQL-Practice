{
 "cells": [
  {
   "cell_type": "code",
   "execution_count": 1,
   "id": "c22a2511",
   "metadata": {},
   "outputs": [],
   "source": [
    "import mysql.connector\n",
    "\n",
    "mydb = mysql_connection = mysql.connector.connect(\n",
    "    host=\"localhost\",\n",
    "    user=\"root\",\n",
    "    passwd=\"1234\",\n",
    "    database=\"testdb\"\n",
    ")\n"
   ]
  },
  {
   "cell_type": "code",
   "execution_count": 2,
   "id": "059b2819",
   "metadata": {},
   "outputs": [
    {
     "name": "stdout",
     "output_type": "stream",
     "text": [
      "<mysql.connector.connection.MySQLConnection object at 0x0000014FE3D38F60>\n"
     ]
    }
   ],
   "source": [
    "print(mydb)"
   ]
  },
  {
   "cell_type": "code",
   "execution_count": 3,
   "id": "e340b827",
   "metadata": {},
   "outputs": [],
   "source": [
    "mycursor = mydb.cursor()"
   ]
  },
  {
   "cell_type": "code",
   "execution_count": 4,
   "id": "f06640a4",
   "metadata": {},
   "outputs": [],
   "source": [
    "#mycursor.execute(\"CREATE DATABASE testdb\")"
   ]
  },
  {
   "cell_type": "code",
   "execution_count": 5,
   "id": "1c08afd9",
   "metadata": {},
   "outputs": [
    {
     "data": {
      "text/plain": [
       "'mycursor.execute(\"SHOW DATABASES\")\\nfor db in mycursor:\\n    print(db)'"
      ]
     },
     "execution_count": 5,
     "metadata": {},
     "output_type": "execute_result"
    }
   ],
   "source": [
    "\"\"\"mycursor.execute(\"SHOW DATABASES\")\n",
    "for db in mycursor:\n",
    "    print(db)\"\"\""
   ]
  },
  {
   "cell_type": "code",
   "execution_count": 6,
   "id": "3183e092",
   "metadata": {},
   "outputs": [],
   "source": [
    "#mycursor.execute(\"CREATE TABLE students(name VARCHAR(255), age INTEGER(10))\")"
   ]
  },
  {
   "cell_type": "code",
   "execution_count": 7,
   "id": "3ccb9d41",
   "metadata": {},
   "outputs": [],
   "source": [
    "mycursor.execute(\"SHOW TABLES\")\n",
    "for tb in mycursor:\n",
    "    print(tb)"
   ]
  },
  {
   "cell_type": "code",
   "execution_count": 8,
   "id": "c8c283cf",
   "metadata": {},
   "outputs": [],
   "source": [
    "#sqlformula = \"INSERT INTO students (name, age) VALUES(%s,%s)\"\n",
    "#student1= (\"Rachel\",22)"
   ]
  },
  {
   "cell_type": "code",
   "execution_count": 9,
   "id": "666d8a52",
   "metadata": {},
   "outputs": [],
   "source": [
    "#mycursor.execute(sqlformula, student1)"
   ]
  },
  {
   "cell_type": "code",
   "execution_count": 10,
   "id": "1a60e12f",
   "metadata": {},
   "outputs": [],
   "source": [
    "#mydb.commit()"
   ]
  },
  {
   "cell_type": "code",
   "execution_count": 11,
   "id": "e1db8d48",
   "metadata": {},
   "outputs": [],
   "source": [
    "#sqlformula = \"INSERT INTO students (name, age) VALUES(%s,%s)\""
   ]
  },
  {
   "cell_type": "code",
   "execution_count": 12,
   "id": "ad308002",
   "metadata": {},
   "outputs": [
    {
     "data": {
      "text/plain": [
       "'students= [(\"Ilsa\",23),\\n          (\"Hamza Rao\",23),\\n          (\"Abid\",22),\\n          (\"Irfan\",21),\\n          (\"Maryam\",20),\\n          (\"Wisha\",22),\\n          (\"Mahnoor\",21),]'"
      ]
     },
     "execution_count": 12,
     "metadata": {},
     "output_type": "execute_result"
    }
   ],
   "source": [
    "\"\"\"students= [(\"Ilsa\",23),\n",
    "          (\"Hamza Rao\",23),\n",
    "          (\"Abid\",22),\n",
    "          (\"Irfan\",21),\n",
    "          (\"Maryam\",20),\n",
    "          (\"Wisha\",22),\n",
    "          (\"Mahnoor\",21),]\"\"\""
   ]
  },
  {
   "cell_type": "code",
   "execution_count": 13,
   "id": "631df51e",
   "metadata": {},
   "outputs": [],
   "source": [
    "#mycursor.executemany(sqlformula, students)"
   ]
  },
  {
   "cell_type": "code",
   "execution_count": 14,
   "id": "017f2412",
   "metadata": {},
   "outputs": [],
   "source": [
    "#mydb.commit()"
   ]
  },
  {
   "cell_type": "code",
   "execution_count": 15,
   "id": "055c4645",
   "metadata": {},
   "outputs": [
    {
     "ename": "ProgrammingError",
     "evalue": "1146 (42S02): Table 'testdb.students' doesn't exist",
     "output_type": "error",
     "traceback": [
      "\u001b[1;31m---------------------------------------------------------------------------\u001b[0m",
      "\u001b[1;31mProgrammingError\u001b[0m                          Traceback (most recent call last)",
      "\u001b[1;32m~\\AppData\\Local\\Temp\\ipykernel_14472\\388059720.py\u001b[0m in \u001b[0;36m<module>\u001b[1;34m\u001b[0m\n\u001b[1;32m----> 1\u001b[1;33m \u001b[0mmycursor\u001b[0m\u001b[1;33m.\u001b[0m\u001b[0mexecute\u001b[0m\u001b[1;33m(\u001b[0m\u001b[1;34m\"SELECT * FROM students\"\u001b[0m\u001b[1;33m)\u001b[0m\u001b[1;33m\u001b[0m\u001b[0m\n\u001b[0m",
      "\u001b[1;32mc:\\users\\administrator\\appdata\\local\\programs\\python\\python37\\lib\\site-packages\\mysql\\connector\\cursor.py\u001b[0m in \u001b[0;36mexecute\u001b[1;34m(self, operation, params, multi)\u001b[0m\n\u001b[0;32m    613\u001b[0m \u001b[1;33m\u001b[0m\u001b[0m\n\u001b[0;32m    614\u001b[0m         \u001b[1;32mtry\u001b[0m\u001b[1;33m:\u001b[0m\u001b[1;33m\u001b[0m\u001b[0m\n\u001b[1;32m--> 615\u001b[1;33m             \u001b[0mself\u001b[0m\u001b[1;33m.\u001b[0m\u001b[0m_handle_result\u001b[0m\u001b[1;33m(\u001b[0m\u001b[0mself\u001b[0m\u001b[1;33m.\u001b[0m\u001b[0m_connection\u001b[0m\u001b[1;33m.\u001b[0m\u001b[0mcmd_query\u001b[0m\u001b[1;33m(\u001b[0m\u001b[0mstmt\u001b[0m\u001b[1;33m)\u001b[0m\u001b[1;33m)\u001b[0m\u001b[1;33m\u001b[0m\u001b[0m\n\u001b[0m\u001b[0;32m    616\u001b[0m         \u001b[1;32mexcept\u001b[0m \u001b[0mInterfaceError\u001b[0m \u001b[1;32mas\u001b[0m \u001b[0merr\u001b[0m\u001b[1;33m:\u001b[0m\u001b[1;33m\u001b[0m\u001b[0m\n\u001b[0;32m    617\u001b[0m             \u001b[1;32mif\u001b[0m \u001b[0mself\u001b[0m\u001b[1;33m.\u001b[0m\u001b[0m_connection\u001b[0m\u001b[1;33m.\u001b[0m\u001b[0mhave_next_result\u001b[0m\u001b[1;33m:\u001b[0m\u001b[1;33m\u001b[0m\u001b[0m\n",
      "\u001b[1;32mc:\\users\\administrator\\appdata\\local\\programs\\python\\python37\\lib\\site-packages\\mysql\\connector\\connection.py\u001b[0m in \u001b[0;36mcmd_query\u001b[1;34m(self, query, raw, buffered, raw_as_string)\u001b[0m\n\u001b[0;32m   1044\u001b[0m         \u001b[0mquery\u001b[0m \u001b[1;33m=\u001b[0m \u001b[0mbytes\u001b[0m\u001b[1;33m(\u001b[0m\u001b[0mpacket\u001b[0m\u001b[1;33m)\u001b[0m\u001b[1;33m\u001b[0m\u001b[0m\n\u001b[0;32m   1045\u001b[0m         \u001b[1;32mtry\u001b[0m\u001b[1;33m:\u001b[0m\u001b[1;33m\u001b[0m\u001b[0m\n\u001b[1;32m-> 1046\u001b[1;33m             \u001b[0mresult\u001b[0m \u001b[1;33m=\u001b[0m \u001b[0mself\u001b[0m\u001b[1;33m.\u001b[0m\u001b[0m_handle_result\u001b[0m\u001b[1;33m(\u001b[0m\u001b[0mself\u001b[0m\u001b[1;33m.\u001b[0m\u001b[0m_send_cmd\u001b[0m\u001b[1;33m(\u001b[0m\u001b[0mServerCmd\u001b[0m\u001b[1;33m.\u001b[0m\u001b[0mQUERY\u001b[0m\u001b[1;33m,\u001b[0m \u001b[0mquery\u001b[0m\u001b[1;33m)\u001b[0m\u001b[1;33m)\u001b[0m\u001b[1;33m\u001b[0m\u001b[0m\n\u001b[0m\u001b[0;32m   1047\u001b[0m         \u001b[1;32mexcept\u001b[0m \u001b[0mProgrammingError\u001b[0m \u001b[1;32mas\u001b[0m \u001b[0merr\u001b[0m\u001b[1;33m:\u001b[0m\u001b[1;33m\u001b[0m\u001b[0m\n\u001b[0;32m   1048\u001b[0m             \u001b[1;32mif\u001b[0m \u001b[0merr\u001b[0m\u001b[1;33m.\u001b[0m\u001b[0merrno\u001b[0m \u001b[1;33m==\u001b[0m \u001b[1;36m3948\u001b[0m \u001b[1;32mand\u001b[0m \u001b[1;34m\"Loading local data is disabled\"\u001b[0m \u001b[1;32min\u001b[0m \u001b[0merr\u001b[0m\u001b[1;33m.\u001b[0m\u001b[0mmsg\u001b[0m\u001b[1;33m:\u001b[0m\u001b[1;33m\u001b[0m\u001b[0m\n",
      "\u001b[1;32mc:\\users\\administrator\\appdata\\local\\programs\\python\\python37\\lib\\site-packages\\mysql\\connector\\connection.py\u001b[0m in \u001b[0;36m_handle_result\u001b[1;34m(self, packet)\u001b[0m\n\u001b[0;32m    822\u001b[0m             \u001b[1;32mreturn\u001b[0m \u001b[0mself\u001b[0m\u001b[1;33m.\u001b[0m\u001b[0m_handle_eof\u001b[0m\u001b[1;33m(\u001b[0m\u001b[0mpacket\u001b[0m\u001b[1;33m)\u001b[0m\u001b[1;33m\u001b[0m\u001b[0m\n\u001b[0;32m    823\u001b[0m         \u001b[1;32mif\u001b[0m \u001b[0mpacket\u001b[0m\u001b[1;33m[\u001b[0m\u001b[1;36m4\u001b[0m\u001b[1;33m]\u001b[0m \u001b[1;33m==\u001b[0m \u001b[1;36m255\u001b[0m\u001b[1;33m:\u001b[0m\u001b[1;33m\u001b[0m\u001b[0m\n\u001b[1;32m--> 824\u001b[1;33m             \u001b[1;32mraise\u001b[0m \u001b[0mget_exception\u001b[0m\u001b[1;33m(\u001b[0m\u001b[0mpacket\u001b[0m\u001b[1;33m)\u001b[0m\u001b[1;33m\u001b[0m\u001b[0m\n\u001b[0m\u001b[0;32m    825\u001b[0m \u001b[1;33m\u001b[0m\u001b[0m\n\u001b[0;32m    826\u001b[0m         \u001b[1;31m# We have a text result set\u001b[0m\u001b[1;33m\u001b[0m\u001b[1;33m\u001b[0m\u001b[0m\n",
      "\u001b[1;31mProgrammingError\u001b[0m: 1146 (42S02): Table 'testdb.students' doesn't exist"
     ]
    }
   ],
   "source": [
    "mycursor.execute(\"SELECT * FROM students\")"
   ]
  },
  {
   "cell_type": "code",
   "execution_count": 41,
   "id": "9919a374",
   "metadata": {},
   "outputs": [],
   "source": [
    "result = mycursor.fetchall()"
   ]
  },
  {
   "cell_type": "code",
   "execution_count": 42,
   "id": "34185615",
   "metadata": {},
   "outputs": [
    {
     "name": "stdout",
     "output_type": "stream",
     "text": [
      "('Rachel', 22)\n",
      "('Ilsa', 23)\n",
      "('Hamza Rao', 23)\n",
      "('Abid', 22)\n",
      "('Irfan', 21)\n",
      "('Maryam', 20)\n",
      "('Wisha', 22)\n",
      "('Mahnoor', 21)\n",
      "('Ilsa', 23)\n",
      "('Hamza Rao', 23)\n",
      "('Abid', 22)\n",
      "('Irfan', 21)\n",
      "('Maryam', 20)\n",
      "('Wisha', 22)\n",
      "('Mahnoor', 21)\n",
      "('Ilsa', 23)\n",
      "('Hamza Rao', 23)\n",
      "('Abid', 22)\n",
      "('Irfan', 21)\n",
      "('Maryam', 20)\n",
      "('Wisha', 22)\n",
      "('Mahnoor', 21)\n"
     ]
    }
   ],
   "source": [
    "for r in result:\n",
    "    print(r)"
   ]
  },
  {
   "cell_type": "code",
   "execution_count": 43,
   "id": "38fdf3c6",
   "metadata": {},
   "outputs": [],
   "source": [
    "#mycursor.execute(\"SELECT age FROM students\")"
   ]
  },
  {
   "cell_type": "code",
   "execution_count": 44,
   "id": "db3c62e6",
   "metadata": {},
   "outputs": [],
   "source": [
    "result = mycursor.fetchall()"
   ]
  },
  {
   "cell_type": "code",
   "execution_count": 45,
   "id": "943fd326",
   "metadata": {},
   "outputs": [],
   "source": [
    "for r in result:\n",
    "    print(r)"
   ]
  },
  {
   "cell_type": "code",
   "execution_count": 46,
   "id": "fc9d6d1b",
   "metadata": {},
   "outputs": [
    {
     "name": "stdout",
     "output_type": "stream",
     "text": [
      "22\n"
     ]
    }
   ],
   "source": [
    "mycursor.execute(\"SELECT age FROM students\")\n",
    "result = mycursor.fetchone()\n",
    "for r in result:\n",
    "    print(r)"
   ]
  },
  {
   "cell_type": "code",
   "execution_count": 60,
   "id": "ae17b587",
   "metadata": {},
   "outputs": [
    {
     "data": {
      "text/plain": [
       "True"
      ]
     },
     "execution_count": 60,
     "metadata": {},
     "output_type": "execute_result"
    }
   ],
   "source": [
    "mycursor.fetchall()\n",
    "mycursor.close()"
   ]
  },
  {
   "cell_type": "code",
   "execution_count": 61,
   "id": "9bd0327a",
   "metadata": {},
   "outputs": [],
   "source": [
    "mycursor = mydb.cursor()\n",
    "mycursor.execute(\"SELECT * FROM students WHERE name='Irfan'\")"
   ]
  },
  {
   "cell_type": "code",
   "execution_count": 62,
   "id": "fc9e48a5",
   "metadata": {},
   "outputs": [],
   "source": [
    "result = mycursor.fetchall()"
   ]
  },
  {
   "cell_type": "code",
   "execution_count": 63,
   "id": "9e3cf24d",
   "metadata": {},
   "outputs": [
    {
     "name": "stdout",
     "output_type": "stream",
     "text": [
      "('Irfan', 21)\n",
      "('Irfan', 21)\n",
      "('Irfan', 21)\n"
     ]
    }
   ],
   "source": [
    "for r in result:\n",
    "    print(r)"
   ]
  },
  {
   "cell_type": "code",
   "execution_count": 64,
   "id": "ad90b633",
   "metadata": {},
   "outputs": [
    {
     "name": "stdout",
     "output_type": "stream",
     "text": [
      "('Wisha', 22)\n",
      "('Wisha', 22)\n",
      "('Wisha', 22)\n",
      "('Rachel', 22)\n",
      "('Maryam', 20)\n",
      "('Maryam', 20)\n",
      "('Maryam', 20)\n",
      "('Mahnoor', 21)\n",
      "('Mahnoor', 21)\n",
      "('Mahnoor', 21)\n",
      "('Irfan', 21)\n",
      "('Irfan', 21)\n",
      "('Irfan', 21)\n",
      "('Ilsa', 23)\n",
      "('Ilsa', 23)\n",
      "('Ilsa', 23)\n",
      "('Hamza Rao', 23)\n",
      "('Hamza Rao', 23)\n",
      "('Hamza Rao', 23)\n",
      "('Abid', 22)\n",
      "('Abid', 22)\n",
      "('Abid', 22)\n"
     ]
    }
   ],
   "source": [
    "mycursor = mydb.cursor()\n",
    "mycursor.execute(\"SELECT * FROM students ORDER BY name DESC\")\n",
    "result = mycursor.fetchall()\n",
    "for r in result:\n",
    "    print(r)\n",
    "mycursor.close()"
   ]
  },
  {
   "cell_type": "code",
   "execution_count": 67,
   "id": "f77f9814",
   "metadata": {},
   "outputs": [
    {
     "name": "stdout",
     "output_type": "stream",
     "text": [
      "('Rachel', 13)\n"
     ]
    },
    {
     "data": {
      "text/plain": [
       "True"
      ]
     },
     "execution_count": 67,
     "metadata": {},
     "output_type": "execute_result"
    }
   ],
   "source": [
    "mycursor = mydb.cursor()\n",
    "mycursor.execute(\"UPDATE students SET age=13 WHERE name='Rachel'\")\n",
    "mycursor.execute(\"SELECT * FROM students WHERE name='Rachel'\")\n",
    "result = mycursor.fetchall()\n",
    "for r in result:\n",
    "    print(r)\n",
    "mycursor.close()"
   ]
  },
  {
   "cell_type": "code",
   "execution_count": 68,
   "id": "b1f4a23e",
   "metadata": {},
   "outputs": [
    {
     "name": "stdout",
     "output_type": "stream",
     "text": [
      "('Rachel', 13)\n",
      "('Ilsa', 23)\n",
      "('Hamza Rao', 23)\n",
      "('Abid', 22)\n",
      "('Irfan', 21)\n"
     ]
    },
    {
     "data": {
      "text/plain": [
       "True"
      ]
     },
     "execution_count": 68,
     "metadata": {},
     "output_type": "execute_result"
    }
   ],
   "source": [
    "mycursor = mydb.cursor()\n",
    "mycursor.execute(\"SELECT * FROM students LIMIT 5\")\n",
    "result = mycursor.fetchall()\n",
    "for r in result:\n",
    "    print(r)\n",
    "mycursor.close()"
   ]
  },
  {
   "cell_type": "code",
   "execution_count": 69,
   "id": "00530c65",
   "metadata": {},
   "outputs": [],
   "source": [
    "mycursor = mydb.cursor()\n",
    "mycursor.execute(\"DELETE FROM students WHERE name='Rachel'\")\n",
    "mydb.commit()"
   ]
  },
  {
   "cell_type": "code",
   "execution_count": 71,
   "id": "f9ad9fd0",
   "metadata": {},
   "outputs": [],
   "source": [
    "mycursor = mydb.cursor()\n",
    "mycursor.execute(\"DELETE FROM students WHERE age=21\")\n",
    "mydb.commit()"
   ]
  },
  {
   "cell_type": "code",
   "execution_count": 72,
   "id": "3a074be2",
   "metadata": {},
   "outputs": [
    {
     "name": "stdout",
     "output_type": "stream",
     "text": [
      "('Ilsa', 23)\n",
      "('Hamza Rao', 23)\n",
      "('Abid', 22)\n",
      "('Maryam', 20)\n",
      "('Wisha', 22)\n",
      "('Ilsa', 23)\n",
      "('Hamza Rao', 23)\n",
      "('Abid', 22)\n",
      "('Maryam', 20)\n",
      "('Wisha', 22)\n",
      "('Ilsa', 23)\n",
      "('Hamza Rao', 23)\n",
      "('Abid', 22)\n",
      "('Maryam', 20)\n",
      "('Wisha', 22)\n"
     ]
    },
    {
     "data": {
      "text/plain": [
       "True"
      ]
     },
     "execution_count": 72,
     "metadata": {},
     "output_type": "execute_result"
    }
   ],
   "source": [
    "mycursor = mydb.cursor()\n",
    "mycursor.execute(\"SELECT * FROM students\")\n",
    "result = mycursor.fetchall()\n",
    "for r in result:\n",
    "    print(r)\n",
    "mycursor.close()"
   ]
  },
  {
   "cell_type": "code",
   "execution_count": null,
   "id": "41919d00",
   "metadata": {},
   "outputs": [],
   "source": [
    "mycursor = mydb.cursor()\n",
    "mycursor.execute(\"DROP TABLE students\")\n",
    "mydb.commit()"
   ]
  },
  {
   "cell_type": "code",
   "execution_count": 16,
   "id": "e44c1a76",
   "metadata": {},
   "outputs": [],
   "source": [
    "mycursor.execute(\"SHOW TABLES\")\n",
    "for tb in mycursor:\n",
    "    print(tb)"
   ]
  },
  {
   "cell_type": "code",
   "execution_count": null,
   "id": "02ffc944",
   "metadata": {},
   "outputs": [],
   "source": []
  }
 ],
 "metadata": {
  "kernelspec": {
   "display_name": "Python 3 (ipykernel)",
   "language": "python",
   "name": "python3"
  },
  "language_info": {
   "codemirror_mode": {
    "name": "ipython",
    "version": 3
   },
   "file_extension": ".py",
   "mimetype": "text/x-python",
   "name": "python",
   "nbconvert_exporter": "python",
   "pygments_lexer": "ipython3",
   "version": "3.7.0"
  }
 },
 "nbformat": 4,
 "nbformat_minor": 5
}
