{
 "cells": [
  {
   "cell_type": "code",
   "execution_count": 36,
   "id": "c22a2511",
   "metadata": {},
   "outputs": [],
   "source": [
    "import mysql.connector\n",
    "\n",
    "mydb = mysql_connection = mysql.connector.connect(\n",
    "    host=\"localhost\",\n",
    "    user=\"root\",\n",
    "    passwd=\"1234\",\n",
    "    database=\"testdb\"\n",
    ")\n"
   ]
  },
  {
   "cell_type": "code",
   "execution_count": 37,
   "id": "059b2819",
   "metadata": {},
   "outputs": [
    {
     "name": "stdout",
     "output_type": "stream",
     "text": [
      "<mysql.connector.connection.MySQLConnection object at 0x000001E2FA28C940>\n"
     ]
    }
   ],
   "source": [
    "print(mydb)"
   ]
  },
  {
   "cell_type": "code",
   "execution_count": 38,
   "id": "e340b827",
   "metadata": {},
   "outputs": [],
   "source": [
    "mycursor = mydb.cursor()"
   ]
  },
  {
   "cell_type": "code",
   "execution_count": 39,
   "id": "f06640a4",
   "metadata": {},
   "outputs": [],
   "source": [
    "#mycursor.execute(\"CREATE DATABASE testdb\")"
   ]
  },
  {
   "cell_type": "code",
   "execution_count": 40,
   "id": "1c08afd9",
   "metadata": {},
   "outputs": [
    {
     "data": {
      "text/plain": [
       "'mycursor.execute(\"SHOW DATABASES\")\\nfor db in mycursor:\\n    print(db)'"
      ]
     },
     "execution_count": 40,
     "metadata": {},
     "output_type": "execute_result"
    }
   ],
   "source": [
    "\"\"\"mycursor.execute(\"SHOW DATABASES\")\n",
    "for db in mycursor:\n",
    "    print(db)\"\"\""
   ]
  },
  {
   "cell_type": "code",
   "execution_count": 41,
   "id": "3183e092",
   "metadata": {},
   "outputs": [],
   "source": [
    "#mycursor.execute(\"CREATE TABLE students(name VARCHAR(255), age INTEGER(10))\")"
   ]
  },
  {
   "cell_type": "code",
   "execution_count": 42,
   "id": "3ccb9d41",
   "metadata": {},
   "outputs": [
    {
     "name": "stdout",
     "output_type": "stream",
     "text": [
      "('students',)\n"
     ]
    }
   ],
   "source": [
    "mycursor.execute(\"SHOW TABLES\")\n",
    "for tb in mycursor:\n",
    "    print(tb)"
   ]
  },
  {
   "cell_type": "code",
   "execution_count": 43,
   "id": "c8c283cf",
   "metadata": {},
   "outputs": [],
   "source": [
    "#sqlformula = \"INSERT INTO students (name, age) VALUES(%s,%s)\"\n",
    "#student1= (\"Rachel\",22)"
   ]
  },
  {
   "cell_type": "code",
   "execution_count": 44,
   "id": "666d8a52",
   "metadata": {},
   "outputs": [],
   "source": [
    "#mycursor.execute(sqlformula, student1)"
   ]
  },
  {
   "cell_type": "code",
   "execution_count": 45,
   "id": "1a60e12f",
   "metadata": {},
   "outputs": [],
   "source": [
    "#mydb.commit()"
   ]
  },
  {
   "cell_type": "code",
   "execution_count": 46,
   "id": "e1db8d48",
   "metadata": {},
   "outputs": [],
   "source": [
    "sqlformula = \"INSERT INTO students (name, age) VALUES(%s,%s)\""
   ]
  },
  {
   "cell_type": "code",
   "execution_count": 47,
   "id": "ad308002",
   "metadata": {},
   "outputs": [],
   "source": [
    "students= [(\"Ilsa\",23),\n",
    "          (\"Hamza Rao\",23),\n",
    "          (\"Abid\",22),\n",
    "          (\"Irfan\",21),\n",
    "          (\"Maryam\",20),\n",
    "          (\"Wisha\",22),\n",
    "          (\"Mahnoor\",21),]"
   ]
  },
  {
   "cell_type": "code",
   "execution_count": 48,
   "id": "631df51e",
   "metadata": {},
   "outputs": [],
   "source": [
    "mycursor.executemany(sqlformula, students)"
   ]
  },
  {
   "cell_type": "code",
   "execution_count": 49,
   "id": "017f2412",
   "metadata": {},
   "outputs": [],
   "source": [
    "mydb.commit()"
   ]
  },
  {
   "cell_type": "code",
   "execution_count": null,
   "id": "055c4645",
   "metadata": {},
   "outputs": [],
   "source": []
  }
 ],
 "metadata": {
  "kernelspec": {
   "display_name": "Python 3 (ipykernel)",
   "language": "python",
   "name": "python3"
  },
  "language_info": {
   "codemirror_mode": {
    "name": "ipython",
    "version": 3
   },
   "file_extension": ".py",
   "mimetype": "text/x-python",
   "name": "python",
   "nbconvert_exporter": "python",
   "pygments_lexer": "ipython3",
   "version": "3.7.0"
  }
 },
 "nbformat": 4,
 "nbformat_minor": 5
}
