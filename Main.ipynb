{
 "cells": [
  {
   "cell_type": "code",
   "execution_count": 26,
   "id": "c22a2511",
   "metadata": {},
   "outputs": [],
   "source": [
    "import mysql.connector\n",
    "\n",
    "mydb = mysql_connection = mysql.connector.connect(\n",
    "    host=\"localhost\",\n",
    "    user=\"root\",\n",
    "    passwd=\"1234\",\n",
    "    database=\"testdb\"\n",
    ")\n"
   ]
  },
  {
   "cell_type": "code",
   "execution_count": 27,
   "id": "059b2819",
   "metadata": {},
   "outputs": [
    {
     "name": "stdout",
     "output_type": "stream",
     "text": [
      "<mysql.connector.connection.MySQLConnection object at 0x000001F1B0AD8128>\n"
     ]
    }
   ],
   "source": [
    "print(mydb)"
   ]
  },
  {
   "cell_type": "code",
   "execution_count": 28,
   "id": "e340b827",
   "metadata": {},
   "outputs": [],
   "source": [
    "mycursor = mydb.cursor()"
   ]
  },
  {
   "cell_type": "code",
   "execution_count": 29,
   "id": "f06640a4",
   "metadata": {},
   "outputs": [],
   "source": [
    "#mycursor.execute(\"CREATE DATABASE testdb\")"
   ]
  },
  {
   "cell_type": "code",
   "execution_count": 30,
   "id": "1c08afd9",
   "metadata": {},
   "outputs": [
    {
     "data": {
      "text/plain": [
       "'mycursor.execute(\"SHOW DATABASES\")\\nfor db in mycursor:\\n    print(db)'"
      ]
     },
     "execution_count": 30,
     "metadata": {},
     "output_type": "execute_result"
    }
   ],
   "source": [
    "\"\"\"mycursor.execute(\"SHOW DATABASES\")\n",
    "for db in mycursor:\n",
    "    print(db)\"\"\""
   ]
  },
  {
   "cell_type": "code",
   "execution_count": 31,
   "id": "3183e092",
   "metadata": {},
   "outputs": [],
   "source": [
    "#mycursor.execute(\"CREATE TABLE students(name VARCHAR(255), age INTEGER(10))\")"
   ]
  },
  {
   "cell_type": "code",
   "execution_count": 32,
   "id": "3ccb9d41",
   "metadata": {},
   "outputs": [
    {
     "name": "stdout",
     "output_type": "stream",
     "text": [
      "('students',)\n"
     ]
    }
   ],
   "source": [
    "mycursor.execute(\"SHOW TABLES\")\n",
    "for tb in mycursor:\n",
    "    print(tb)"
   ]
  },
  {
   "cell_type": "code",
   "execution_count": 33,
   "id": "c8c283cf",
   "metadata": {},
   "outputs": [],
   "source": [
    "#sqlformula = \"INSERT INTO students (name, age) VALUES(%s,%s)\"\n",
    "#student1= (\"Rachel\",22)"
   ]
  },
  {
   "cell_type": "code",
   "execution_count": 34,
   "id": "666d8a52",
   "metadata": {},
   "outputs": [],
   "source": [
    "#mycursor.execute(sqlformula, student1)"
   ]
  },
  {
   "cell_type": "code",
   "execution_count": 35,
   "id": "1a60e12f",
   "metadata": {},
   "outputs": [],
   "source": [
    "#mydb.commit()"
   ]
  },
  {
   "cell_type": "code",
   "execution_count": 36,
   "id": "e1db8d48",
   "metadata": {},
   "outputs": [],
   "source": [
    "#sqlformula = \"INSERT INTO students (name, age) VALUES(%s,%s)\""
   ]
  },
  {
   "cell_type": "code",
   "execution_count": 37,
   "id": "ad308002",
   "metadata": {},
   "outputs": [
    {
     "data": {
      "text/plain": [
       "'students= [(\"Ilsa\",23),\\n          (\"Hamza Rao\",23),\\n          (\"Abid\",22),\\n          (\"Irfan\",21),\\n          (\"Maryam\",20),\\n          (\"Wisha\",22),\\n          (\"Mahnoor\",21),]'"
      ]
     },
     "execution_count": 37,
     "metadata": {},
     "output_type": "execute_result"
    }
   ],
   "source": [
    "\"\"\"students= [(\"Ilsa\",23),\n",
    "          (\"Hamza Rao\",23),\n",
    "          (\"Abid\",22),\n",
    "          (\"Irfan\",21),\n",
    "          (\"Maryam\",20),\n",
    "          (\"Wisha\",22),\n",
    "          (\"Mahnoor\",21),]\"\"\""
   ]
  },
  {
   "cell_type": "code",
   "execution_count": 38,
   "id": "631df51e",
   "metadata": {},
   "outputs": [],
   "source": [
    "#mycursor.executemany(sqlformula, students)"
   ]
  },
  {
   "cell_type": "code",
   "execution_count": 39,
   "id": "017f2412",
   "metadata": {},
   "outputs": [],
   "source": [
    "#mydb.commit()"
   ]
  },
  {
   "cell_type": "code",
   "execution_count": 40,
   "id": "055c4645",
   "metadata": {},
   "outputs": [],
   "source": [
    "mycursor.execute(\"SELECT * FROM students\")"
   ]
  },
  {
   "cell_type": "code",
   "execution_count": 41,
   "id": "9919a374",
   "metadata": {},
   "outputs": [],
   "source": [
    "result = mycursor.fetchall()"
   ]
  },
  {
   "cell_type": "code",
   "execution_count": 42,
   "id": "34185615",
   "metadata": {},
   "outputs": [
    {
     "name": "stdout",
     "output_type": "stream",
     "text": [
      "('Rachel', 22)\n",
      "('Ilsa', 23)\n",
      "('Hamza Rao', 23)\n",
      "('Abid', 22)\n",
      "('Irfan', 21)\n",
      "('Maryam', 20)\n",
      "('Wisha', 22)\n",
      "('Mahnoor', 21)\n",
      "('Ilsa', 23)\n",
      "('Hamza Rao', 23)\n",
      "('Abid', 22)\n",
      "('Irfan', 21)\n",
      "('Maryam', 20)\n",
      "('Wisha', 22)\n",
      "('Mahnoor', 21)\n",
      "('Ilsa', 23)\n",
      "('Hamza Rao', 23)\n",
      "('Abid', 22)\n",
      "('Irfan', 21)\n",
      "('Maryam', 20)\n",
      "('Wisha', 22)\n",
      "('Mahnoor', 21)\n"
     ]
    }
   ],
   "source": [
    "for r in result:\n",
    "    print(r)"
   ]
  },
  {
   "cell_type": "code",
   "execution_count": 43,
   "id": "38fdf3c6",
   "metadata": {},
   "outputs": [],
   "source": [
    "#mycursor.execute(\"SELECT age FROM students\")"
   ]
  },
  {
   "cell_type": "code",
   "execution_count": 44,
   "id": "db3c62e6",
   "metadata": {},
   "outputs": [],
   "source": [
    "result = mycursor.fetchall()"
   ]
  },
  {
   "cell_type": "code",
   "execution_count": 45,
   "id": "943fd326",
   "metadata": {},
   "outputs": [],
   "source": [
    "for r in result:\n",
    "    print(r)"
   ]
  },
  {
   "cell_type": "code",
   "execution_count": 46,
   "id": "fc9d6d1b",
   "metadata": {},
   "outputs": [
    {
     "name": "stdout",
     "output_type": "stream",
     "text": [
      "22\n"
     ]
    }
   ],
   "source": [
    "mycursor.execute(\"SELECT age FROM students\")\n",
    "result = mycursor.fetchone()\n",
    "for r in result:\n",
    "    print(r)"
   ]
  },
  {
   "cell_type": "code",
   "execution_count": 60,
   "id": "ae17b587",
   "metadata": {},
   "outputs": [
    {
     "data": {
      "text/plain": [
       "True"
      ]
     },
     "execution_count": 60,
     "metadata": {},
     "output_type": "execute_result"
    }
   ],
   "source": [
    "mycursor.fetchall()\n",
    "mycursor.close()"
   ]
  },
  {
   "cell_type": "code",
   "execution_count": 61,
   "id": "9bd0327a",
   "metadata": {},
   "outputs": [],
   "source": [
    "mycursor = mydb.cursor()\n",
    "mycursor.execute(\"SELECT * FROM students WHERE name='Irfan'\")"
   ]
  },
  {
   "cell_type": "code",
   "execution_count": 62,
   "id": "fc9e48a5",
   "metadata": {},
   "outputs": [],
   "source": [
    "result = mycursor.fetchall()"
   ]
  },
  {
   "cell_type": "code",
   "execution_count": 63,
   "id": "9e3cf24d",
   "metadata": {},
   "outputs": [
    {
     "name": "stdout",
     "output_type": "stream",
     "text": [
      "('Irfan', 21)\n",
      "('Irfan', 21)\n",
      "('Irfan', 21)\n"
     ]
    }
   ],
   "source": [
    "for r in result:\n",
    "    print(r)"
   ]
  },
  {
   "cell_type": "code",
   "execution_count": 64,
   "id": "ad90b633",
   "metadata": {},
   "outputs": [
    {
     "name": "stdout",
     "output_type": "stream",
     "text": [
      "('Wisha', 22)\n",
      "('Wisha', 22)\n",
      "('Wisha', 22)\n",
      "('Rachel', 22)\n",
      "('Maryam', 20)\n",
      "('Maryam', 20)\n",
      "('Maryam', 20)\n",
      "('Mahnoor', 21)\n",
      "('Mahnoor', 21)\n",
      "('Mahnoor', 21)\n",
      "('Irfan', 21)\n",
      "('Irfan', 21)\n",
      "('Irfan', 21)\n",
      "('Ilsa', 23)\n",
      "('Ilsa', 23)\n",
      "('Ilsa', 23)\n",
      "('Hamza Rao', 23)\n",
      "('Hamza Rao', 23)\n",
      "('Hamza Rao', 23)\n",
      "('Abid', 22)\n",
      "('Abid', 22)\n",
      "('Abid', 22)\n"
     ]
    }
   ],
   "source": [
    "mycursor = mydb.cursor()\n",
    "mycursor.execute(\"SELECT * FROM students ORDER BY name DESC\")\n",
    "result = mycursor.fetchall()\n",
    "for r in result:\n",
    "    print(r)\n",
    "mycursor.close()"
   ]
  },
  {
   "cell_type": "code",
   "execution_count": 67,
   "id": "f77f9814",
   "metadata": {},
   "outputs": [
    {
     "name": "stdout",
     "output_type": "stream",
     "text": [
      "('Rachel', 13)\n"
     ]
    },
    {
     "data": {
      "text/plain": [
       "True"
      ]
     },
     "execution_count": 67,
     "metadata": {},
     "output_type": "execute_result"
    }
   ],
   "source": [
    "mycursor = mydb.cursor()\n",
    "mycursor.execute(\"UPDATE students SET age=13 WHERE name='Rachel'\")\n",
    "mycursor.execute(\"SELECT * FROM students WHERE name='Rachel'\")\n",
    "result = mycursor.fetchall()\n",
    "for r in result:\n",
    "    print(r)\n",
    "mycursor.close()"
   ]
  },
  {
   "cell_type": "code",
   "execution_count": 68,
   "id": "b1f4a23e",
   "metadata": {},
   "outputs": [
    {
     "name": "stdout",
     "output_type": "stream",
     "text": [
      "('Rachel', 13)\n",
      "('Ilsa', 23)\n",
      "('Hamza Rao', 23)\n",
      "('Abid', 22)\n",
      "('Irfan', 21)\n"
     ]
    },
    {
     "data": {
      "text/plain": [
       "True"
      ]
     },
     "execution_count": 68,
     "metadata": {},
     "output_type": "execute_result"
    }
   ],
   "source": [
    "mycursor = mydb.cursor()\n",
    "mycursor.execute(\"SELECT * FROM students LIMIT 5\")\n",
    "result = mycursor.fetchall()\n",
    "for r in result:\n",
    "    print(r)\n",
    "mycursor.close()"
   ]
  },
  {
   "cell_type": "code",
   "execution_count": 69,
   "id": "00530c65",
   "metadata": {},
   "outputs": [],
   "source": [
    "mycursor = mydb.cursor()\n",
    "mycursor.execute(\"DELETE FROM students WHERE name='Rachel'\")\n",
    "mydb.commit()"
   ]
  },
  {
   "cell_type": "code",
   "execution_count": 71,
   "id": "f9ad9fd0",
   "metadata": {},
   "outputs": [],
   "source": [
    "mycursor = mydb.cursor()\n",
    "mycursor.execute(\"DELETE FROM students WHERE age=21\")\n",
    "mydb.commit()"
   ]
  },
  {
   "cell_type": "code",
   "execution_count": 72,
   "id": "3a074be2",
   "metadata": {},
   "outputs": [
    {
     "name": "stdout",
     "output_type": "stream",
     "text": [
      "('Ilsa', 23)\n",
      "('Hamza Rao', 23)\n",
      "('Abid', 22)\n",
      "('Maryam', 20)\n",
      "('Wisha', 22)\n",
      "('Ilsa', 23)\n",
      "('Hamza Rao', 23)\n",
      "('Abid', 22)\n",
      "('Maryam', 20)\n",
      "('Wisha', 22)\n",
      "('Ilsa', 23)\n",
      "('Hamza Rao', 23)\n",
      "('Abid', 22)\n",
      "('Maryam', 20)\n",
      "('Wisha', 22)\n"
     ]
    },
    {
     "data": {
      "text/plain": [
       "True"
      ]
     },
     "execution_count": 72,
     "metadata": {},
     "output_type": "execute_result"
    }
   ],
   "source": [
    "mycursor = mydb.cursor()\n",
    "mycursor.execute(\"SELECT * FROM students\")\n",
    "result = mycursor.fetchall()\n",
    "for r in result:\n",
    "    print(r)\n",
    "mycursor.close()"
   ]
  },
  {
   "cell_type": "code",
   "execution_count": null,
   "id": "41919d00",
   "metadata": {},
   "outputs": [],
   "source": []
  }
 ],
 "metadata": {
  "kernelspec": {
   "display_name": "Python 3 (ipykernel)",
   "language": "python",
   "name": "python3"
  },
  "language_info": {
   "codemirror_mode": {
    "name": "ipython",
    "version": 3
   },
   "file_extension": ".py",
   "mimetype": "text/x-python",
   "name": "python",
   "nbconvert_exporter": "python",
   "pygments_lexer": "ipython3",
   "version": "3.7.0"
  }
 },
 "nbformat": 4,
 "nbformat_minor": 5
}
