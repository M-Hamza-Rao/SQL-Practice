{
 "cells": [
  {
   "cell_type": "code",
   "execution_count": 97,
   "id": "c22a2511",
   "metadata": {},
   "outputs": [],
   "source": [
    "import mysql.connector\n",
    "\n",
    "mydb = mysql_connection = mysql.connector.connect(\n",
    "    host=\"localhost\",\n",
    "    user=\"root\",\n",
    "    passwd=\"1234\",\n",
    "    database=\"testdb\"\n",
    ")\n"
   ]
  },
  {
   "cell_type": "code",
   "execution_count": 98,
   "id": "059b2819",
   "metadata": {},
   "outputs": [
    {
     "name": "stdout",
     "output_type": "stream",
     "text": [
      "<mysql.connector.connection.MySQLConnection object at 0x000001E2FA2A4208>\n"
     ]
    }
   ],
   "source": [
    "print(mydb)"
   ]
  },
  {
   "cell_type": "code",
   "execution_count": 99,
   "id": "e340b827",
   "metadata": {},
   "outputs": [],
   "source": [
    "mycursor = mydb.cursor()"
   ]
  },
  {
   "cell_type": "code",
   "execution_count": 100,
   "id": "f06640a4",
   "metadata": {},
   "outputs": [],
   "source": [
    "#mycursor.execute(\"CREATE DATABASE testdb\")"
   ]
  },
  {
   "cell_type": "code",
   "execution_count": 101,
   "id": "1c08afd9",
   "metadata": {},
   "outputs": [
    {
     "data": {
      "text/plain": [
       "'mycursor.execute(\"SHOW DATABASES\")\\nfor db in mycursor:\\n    print(db)'"
      ]
     },
     "execution_count": 101,
     "metadata": {},
     "output_type": "execute_result"
    }
   ],
   "source": [
    "\"\"\"mycursor.execute(\"SHOW DATABASES\")\n",
    "for db in mycursor:\n",
    "    print(db)\"\"\""
   ]
  },
  {
   "cell_type": "code",
   "execution_count": 102,
   "id": "3183e092",
   "metadata": {},
   "outputs": [],
   "source": [
    "#mycursor.execute(\"CREATE TABLE students(name VARCHAR(255), age INTEGER(10))\")"
   ]
  },
  {
   "cell_type": "code",
   "execution_count": 103,
   "id": "3ccb9d41",
   "metadata": {},
   "outputs": [
    {
     "name": "stdout",
     "output_type": "stream",
     "text": [
      "('students',)\n"
     ]
    }
   ],
   "source": [
    "mycursor.execute(\"SHOW TABLES\")\n",
    "for tb in mycursor:\n",
    "    print(tb)"
   ]
  },
  {
   "cell_type": "code",
   "execution_count": 104,
   "id": "c8c283cf",
   "metadata": {},
   "outputs": [],
   "source": [
    "#sqlformula = \"INSERT INTO students (name, age) VALUES(%s,%s)\"\n",
    "#student1= (\"Rachel\",22)"
   ]
  },
  {
   "cell_type": "code",
   "execution_count": 105,
   "id": "666d8a52",
   "metadata": {},
   "outputs": [],
   "source": [
    "#mycursor.execute(sqlformula, student1)"
   ]
  },
  {
   "cell_type": "code",
   "execution_count": 106,
   "id": "1a60e12f",
   "metadata": {},
   "outputs": [],
   "source": [
    "#mydb.commit()"
   ]
  },
  {
   "cell_type": "code",
   "execution_count": 107,
   "id": "e1db8d48",
   "metadata": {},
   "outputs": [],
   "source": [
    "sqlformula = \"INSERT INTO students (name, age) VALUES(%s,%s)\""
   ]
  },
  {
   "cell_type": "code",
   "execution_count": 108,
   "id": "ad308002",
   "metadata": {},
   "outputs": [
    {
     "data": {
      "text/plain": [
       "'students= [(\"Ilsa\",23),\\n          (\"Hamza Rao\",23),\\n          (\"Abid\",22),\\n          (\"Irfan\",21),\\n          (\"Maryam\",20),\\n          (\"Wisha\",22),\\n          (\"Mahnoor\",21),]'"
      ]
     },
     "execution_count": 108,
     "metadata": {},
     "output_type": "execute_result"
    }
   ],
   "source": [
    "\"\"\"students= [(\"Ilsa\",23),\n",
    "          (\"Hamza Rao\",23),\n",
    "          (\"Abid\",22),\n",
    "          (\"Irfan\",21),\n",
    "          (\"Maryam\",20),\n",
    "          (\"Wisha\",22),\n",
    "          (\"Mahnoor\",21),]\"\"\""
   ]
  },
  {
   "cell_type": "code",
   "execution_count": 109,
   "id": "631df51e",
   "metadata": {},
   "outputs": [],
   "source": [
    "mycursor.executemany(sqlformula, students)"
   ]
  },
  {
   "cell_type": "code",
   "execution_count": 110,
   "id": "017f2412",
   "metadata": {},
   "outputs": [],
   "source": [
    "mydb.commit()"
   ]
  },
  {
   "cell_type": "code",
   "execution_count": 111,
   "id": "055c4645",
   "metadata": {},
   "outputs": [],
   "source": [
    "mycursor.execute(\"SELECT * FROM students\")"
   ]
  },
  {
   "cell_type": "code",
   "execution_count": 112,
   "id": "9919a374",
   "metadata": {},
   "outputs": [],
   "source": [
    "result = mycursor.fetchall()"
   ]
  },
  {
   "cell_type": "code",
   "execution_count": 113,
   "id": "34185615",
   "metadata": {},
   "outputs": [
    {
     "name": "stdout",
     "output_type": "stream",
     "text": [
      "('Rachel', 22)\n",
      "('Ilsa', 23)\n",
      "('Hamza Rao', 23)\n",
      "('Abid', 22)\n",
      "('Irfan', 21)\n",
      "('Maryam', 20)\n",
      "('Wisha', 22)\n",
      "('Mahnoor', 21)\n",
      "('Ilsa', 23)\n",
      "('Hamza Rao', 23)\n",
      "('Abid', 22)\n",
      "('Irfan', 21)\n",
      "('Maryam', 20)\n",
      "('Wisha', 22)\n",
      "('Mahnoor', 21)\n",
      "('Ilsa', 23)\n",
      "('Hamza Rao', 23)\n",
      "('Abid', 22)\n",
      "('Irfan', 21)\n",
      "('Maryam', 20)\n",
      "('Wisha', 22)\n",
      "('Mahnoor', 21)\n"
     ]
    }
   ],
   "source": [
    "for r in result:\n",
    "    print(r)"
   ]
  },
  {
   "cell_type": "code",
   "execution_count": 114,
   "id": "38fdf3c6",
   "metadata": {},
   "outputs": [],
   "source": [
    "#mycursor.execute(\"SELECT age FROM students\")"
   ]
  },
  {
   "cell_type": "code",
   "execution_count": 115,
   "id": "db3c62e6",
   "metadata": {},
   "outputs": [],
   "source": [
    "result = mycursor.fetchall()"
   ]
  },
  {
   "cell_type": "code",
   "execution_count": 116,
   "id": "943fd326",
   "metadata": {},
   "outputs": [],
   "source": [
    "for r in result:\n",
    "    print(r)"
   ]
  },
  {
   "cell_type": "code",
   "execution_count": 117,
   "id": "fc9d6d1b",
   "metadata": {},
   "outputs": [
    {
     "name": "stdout",
     "output_type": "stream",
     "text": [
      "22\n"
     ]
    }
   ],
   "source": [
    "mycursor.execute(\"SELECT age FROM students\")\n",
    "result = mycursor.fetchone()\n",
    "for r in result:\n",
    "    print(r)"
   ]
  },
  {
   "cell_type": "code",
   "execution_count": 118,
   "id": "d3e1c69e",
   "metadata": {},
   "outputs": [],
   "source": [
    "q2 = \"SELECT * FROM students WHERE name='Hamza'\""
   ]
  },
  {
   "cell_type": "code",
   "execution_count": 119,
   "id": "9bd0327a",
   "metadata": {},
   "outputs": [
    {
     "ename": "InternalError",
     "evalue": "Unread result found",
     "output_type": "error",
     "traceback": [
      "\u001b[1;31m---------------------------------------------------------------------------\u001b[0m",
      "\u001b[1;31mInternalError\u001b[0m                             Traceback (most recent call last)",
      "\u001b[1;32m~\\AppData\\Local\\Temp\\ipykernel_14764\\1917265814.py\u001b[0m in \u001b[0;36m<module>\u001b[1;34m\u001b[0m\n\u001b[1;32m----> 1\u001b[1;33m \u001b[0mmycursor\u001b[0m\u001b[1;33m.\u001b[0m\u001b[0mexecute\u001b[0m\u001b[1;33m(\u001b[0m\u001b[0mq2\u001b[0m\u001b[1;33m)\u001b[0m\u001b[1;33m\u001b[0m\u001b[0m\n\u001b[0m",
      "\u001b[1;32mc:\\users\\administrator\\appdata\\local\\programs\\python\\python37\\lib\\site-packages\\mysql\\connector\\cursor.py\u001b[0m in \u001b[0;36mexecute\u001b[1;34m(self, operation, params, multi)\u001b[0m\n\u001b[0;32m    578\u001b[0m             \u001b[1;32mraise\u001b[0m \u001b[0mProgrammingError\u001b[0m\u001b[1;33m(\u001b[0m\u001b[1;34m\"Cursor is not connected\"\u001b[0m\u001b[1;33m)\u001b[0m \u001b[1;32mfrom\u001b[0m \u001b[0merr\u001b[0m\u001b[1;33m\u001b[0m\u001b[0m\n\u001b[0;32m    579\u001b[0m \u001b[1;33m\u001b[0m\u001b[0m\n\u001b[1;32m--> 580\u001b[1;33m         \u001b[0mself\u001b[0m\u001b[1;33m.\u001b[0m\u001b[0m_connection\u001b[0m\u001b[1;33m.\u001b[0m\u001b[0mhandle_unread_result\u001b[0m\u001b[1;33m(\u001b[0m\u001b[1;33m)\u001b[0m\u001b[1;33m\u001b[0m\u001b[0m\n\u001b[0m\u001b[0;32m    581\u001b[0m \u001b[1;33m\u001b[0m\u001b[0m\n\u001b[0;32m    582\u001b[0m         \u001b[0mself\u001b[0m\u001b[1;33m.\u001b[0m\u001b[0m_reset_result\u001b[0m\u001b[1;33m(\u001b[0m\u001b[1;33m)\u001b[0m\u001b[1;33m\u001b[0m\u001b[0m\n",
      "\u001b[1;32mc:\\users\\administrator\\appdata\\local\\programs\\python\\python37\\lib\\site-packages\\mysql\\connector\\connection.py\u001b[0m in \u001b[0;36mhandle_unread_result\u001b[1;34m(self)\u001b[0m\n\u001b[0;32m   1715\u001b[0m             \u001b[0mself\u001b[0m\u001b[1;33m.\u001b[0m\u001b[0mconsume_results\u001b[0m\u001b[1;33m(\u001b[0m\u001b[1;33m)\u001b[0m\u001b[1;33m\u001b[0m\u001b[0m\n\u001b[0;32m   1716\u001b[0m         \u001b[1;32melif\u001b[0m \u001b[0mself\u001b[0m\u001b[1;33m.\u001b[0m\u001b[0munread_result\u001b[0m\u001b[1;33m:\u001b[0m\u001b[1;33m\u001b[0m\u001b[0m\n\u001b[1;32m-> 1717\u001b[1;33m             \u001b[1;32mraise\u001b[0m \u001b[0mInternalError\u001b[0m\u001b[1;33m(\u001b[0m\u001b[1;34m\"Unread result found\"\u001b[0m\u001b[1;33m)\u001b[0m\u001b[1;33m\u001b[0m\u001b[0m\n\u001b[0m",
      "\u001b[1;31mInternalError\u001b[0m: Unread result found"
     ]
    }
   ],
   "source": [
    "mycursor.execute(q2)"
   ]
  },
  {
   "cell_type": "code",
   "execution_count": 120,
   "id": "fc9e48a5",
   "metadata": {},
   "outputs": [],
   "source": [
    "result = mycursor.fetchall()"
   ]
  },
  {
   "cell_type": "code",
   "execution_count": 121,
   "id": "9e3cf24d",
   "metadata": {},
   "outputs": [
    {
     "name": "stdout",
     "output_type": "stream",
     "text": [
      "22\n"
     ]
    }
   ],
   "source": [
    "mycursor.execute(\"SELECT age FROM students\")\n",
    "result = mycursor.fetchone()\n",
    "for r in result:\n",
    "    print(r)"
   ]
  },
  {
   "cell_type": "code",
   "execution_count": null,
   "id": "ad90b633",
   "metadata": {},
   "outputs": [],
   "source": []
  }
 ],
 "metadata": {
  "kernelspec": {
   "display_name": "Python 3 (ipykernel)",
   "language": "python",
   "name": "python3"
  },
  "language_info": {
   "codemirror_mode": {
    "name": "ipython",
    "version": 3
   },
   "file_extension": ".py",
   "mimetype": "text/x-python",
   "name": "python",
   "nbconvert_exporter": "python",
   "pygments_lexer": "ipython3",
   "version": "3.7.0"
  }
 },
 "nbformat": 4,
 "nbformat_minor": 5
}
